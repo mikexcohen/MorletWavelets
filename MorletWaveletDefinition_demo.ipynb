{
  "nbformat": 4,
  "nbformat_minor": 0,
  "metadata": {
    "colab": {
      "name": "MorletWaveletDefinition_demo.ipynb",
      "provenance": [],
      "collapsed_sections": []
    },
    "kernelspec": {
      "name": "python3",
      "display_name": "Python 3"
    }
  },
  "cells": [
    {
      "cell_type": "markdown",
      "metadata": {
        "id": "BM9BThYr2vOg"
      },
      "source": [
        "# **Morelet wavelet FWHM definition**\r\n",
        "\r\n",
        "## This code accompanies the paper:\r\n",
        "###    \"A better way to define and describe Morlet wavelets for time-frequency analysis\"\r\n",
        "####     by MX Cohen (NeuroImage, 2019)\r\n",
        "\r\n",
        "\r\n",
        "Questions? -> mikexcohen@gmail.com"
      ]
    },
    {
      "cell_type": "code",
      "metadata": {
        "id": "eUv3SCHV3Cdr"
      },
      "source": [
        "# import libraries\r\n",
        "import numpy as np\r\n",
        "import matplotlib.pyplot as plt\r\n",
        "import matplotlib.gridspec as gridspec # for subplots\r\n",
        "import scipy.io as sio # for importing matlab .mat data"
      ],
      "execution_count": null,
      "outputs": []
    },
    {
      "cell_type": "markdown",
      "metadata": {
        "id": "Gcj5tWGr3TNy"
      },
      "source": [
        "# **Figure 1: The happy time-frequency man**"
      ]
    },
    {
      "cell_type": "code",
      "metadata": {
        "id": "pmwc0plw3Gou"
      },
      "source": [
        "### generate signal\r\n",
        "\r\n",
        "# parameters\r\n",
        "srate = 1000\r\n",
        "time  = np.arange(0,3*srate)/srate\r\n",
        "pnts  = len(time)\r\n",
        "\r\n",
        "# frequency ranges\r\n",
        "f1 = [3, 20]\r\n",
        "f2 = [20, 3]\r\n",
        "\r\n",
        "# transient gaussian\r\n",
        "transgaus = np.exp( -(time-np.mean(time))**2 / .2 )\r\n",
        "\r\n",
        "# the signal\r\n",
        "signal = np.sin(2*np.pi*time * np.linspace(f1[0],np.mean(f1),pnts)) + \\\r\n",
        "         np.sin(2*np.pi*time * np.linspace(f2[0],np.mean(f2),pnts)) + \\\r\n",
        "         np.sin(2*np.pi*time*20) * transgaus"
      ],
      "execution_count": null,
      "outputs": []
    },
    {
      "cell_type": "code",
      "metadata": {
        "id": "7GaTXkuk3t41"
      },
      "source": [
        "### static power spectrum\r\n",
        "\r\n",
        "hz = np.linspace(0,srate/2,int(pnts/2)+1)\r\n",
        "powr = (2*abs(np.fft.fft(signal)/pnts))**2"
      ],
      "execution_count": null,
      "outputs": []
    },
    {
      "cell_type": "code",
      "metadata": {
        "id": "7sup_RQD355U"
      },
      "source": [
        "### time-frequency analysis\r\n",
        "\r\n",
        "# tf params\r\n",
        "nfrex = 40\r\n",
        "frex = np.linspace(2,25,nfrex)\r\n",
        "fwhm = np.linspace(.8,.7,nfrex)\r\n",
        "\r\n",
        "# setup wavelet and convolution parameters\r\n",
        "wavet = np.arange(-2,2,1/srate)\r\n",
        "halfw = int(len(wavet)/2)\r\n",
        "nConv = pnts + len(wavet) - 1\r\n",
        "\r\n",
        "# initialize time-frequency matrix\r\n",
        "tf = np.zeros((len(frex),pnts))\r\n",
        "\r\n",
        "# spectrum of data\r\n",
        "dataX = np.fft.fft(signal,nConv)\r\n",
        "\r\n",
        "# loop over frequencies\r\n",
        "for fi,f in enumerate(frex):\r\n",
        "    \r\n",
        "    # create wavelet\r\n",
        "    waveX = np.fft.fft( np.exp(2*1j*np.pi*f*wavet) * np.exp(-4*np.log(2)*wavet**2/fwhm[fi]**2),nConv )\r\n",
        "    waveX = waveX / np.abs(max(waveX)) # normalize\r\n",
        "    \r\n",
        "    # convolve\r\n",
        "    ast = np.fft.ifft( waveX*dataX )\r\n",
        "    # trim and reshape\r\n",
        "    ast = ast[halfw-1:-halfw]\r\n",
        "    \r\n",
        "    # power\r\n",
        "    tf[fi,:] = np.abs(ast)**2\r\n"
      ],
      "execution_count": null,
      "outputs": []
    },
    {
      "cell_type": "code",
      "metadata": {
        "id": "6oIHvtGQ5VmH"
      },
      "source": [
        "### plotting\r\n",
        "\r\n",
        "fig = plt.figure(figsize=(8,7),tight_layout=True)\r\n",
        "gs = gridspec.GridSpec(2,2)\r\n",
        "\r\n",
        "ax = fig.add_subplot(gs[0,:])\r\n",
        "ax.plot(time,signal,'k',linewidth=2)\r\n",
        "ax.set_xlabel('Time (s)')\r\n",
        "ax.set_ylabel('Amplitude')\r\n",
        "ax.set_title('A) Time domain')\r\n",
        "\r\n",
        "\r\n",
        "ax = fig.add_subplot(gs[1,0])\r\n",
        "ax.plot(hz,powr[:len(hz)],'k',linewidth=2)\r\n",
        "ax.set_xlabel('Frequency (Hz)')\r\n",
        "ax.set_ylabel('Power')\r\n",
        "ax.set_xlim([0,30])\r\n",
        "ax.set_title('B) Frequency domain')\r\n",
        "\r\n",
        "\r\n",
        "ax = fig.add_subplot(gs[1,1])\r\n",
        "ax.imshow(tf,origin='top',aspect='auto',extent=[time[0],time[-1],frex[0],frex[-1]])\r\n",
        "ax.set_xlabel('Time (sec.)')\r\n",
        "ax.set_ylabel('Frequency (Hz)')\r\n",
        "ax.set_title('C) Time-frequency domain')\r\n",
        "\r\n",
        "plt.show()"
      ],
      "execution_count": null,
      "outputs": []
    },
    {
      "cell_type": "code",
      "metadata": {
        "id": "2lywxBqHTM4u"
      },
      "source": [
        ""
      ],
      "execution_count": null,
      "outputs": []
    },
    {
      "cell_type": "markdown",
      "metadata": {
        "id": "tCheLm2uG-Fw"
      },
      "source": [
        "# **Figure 2: Big confusion from little wavelets**"
      ]
    },
    {
      "cell_type": "code",
      "metadata": {
        "id": "GdX0MrVsGy5M"
      },
      "source": [
        "### Create the three wavelets\r\n",
        "\r\n",
        "# simulation parameters\r\n",
        "freq1 = 7 # Hz\r\n",
        "freq2 = 12\r\n",
        "srate = 1000\r\n",
        "time  = np.arange(-2000,2001)/srate\r\n",
        "pnts  = len(time)\r\n",
        "\r\n",
        "# define number of cycles\r\n",
        "numcycles = [ 3, 8 ]\r\n",
        "\r\n",
        "# create the sine waves and Gaussian windows\r\n",
        "sinwave1 = np.cos(2*np.pi*freq1*time)\r\n",
        "sinwave2 = np.cos(2*np.pi*freq2*time)\r\n",
        "gauswin1 = np.exp( -time**2 / (2* (numcycles[0]/(2*np.pi*freq1))**2 ) )\r\n",
        "gauswin2 = np.exp( -time**2 / (2* (numcycles[1]/(2*np.pi*freq1))**2 ) )\r\n",
        "gauswin3 = np.exp( -time**2 / (2* (numcycles[1]/(2*np.pi*freq2))**2 ) )\r\n",
        "\r\n",
        "\r\n",
        "# create the three wavelets\r\n",
        "morletwave1 = sinwave1 * gauswin1\r\n",
        "morletwave2 = sinwave1 * gauswin2\r\n",
        "morletwave3 = sinwave2 * gauswin3"
      ],
      "execution_count": null,
      "outputs": []
    },
    {
      "cell_type": "code",
      "metadata": {
        "id": "BzsRq24AJ50e"
      },
      "source": [
        "### normalized power spectra of the wavelets\r\n",
        "\r\n",
        "powspect1 = np.abs(np.fft.fft(morletwave1)/pnts)**2\r\n",
        "powspect1 = powspect1 / np.max(np.abs(powspect1))\r\n",
        "\r\n",
        "powspect2 = np.abs(np.fft.fft(morletwave2)/pnts)**2\r\n",
        "powspect2 = powspect2 / np.max(np.abs(powspect2))\r\n",
        "\r\n",
        "powspect3 = np.abs(np.fft.fft(morletwave3)/pnts)**2\r\n",
        "powspect3 = powspect3 / np.max(np.abs(powspect3))\r\n",
        "\r\n",
        "# vector of frequencies\r\n",
        "hz = np.linspace(0,srate/2,int(pnts/2)+1)"
      ],
      "execution_count": null,
      "outputs": []
    },
    {
      "cell_type": "code",
      "metadata": {
        "id": "nltPvAJVJxx2"
      },
      "source": [
        "### compute the empirical temporal FWHM in seconds (later converted to ms)\r\n",
        "\r\n",
        "# midpoint\r\n",
        "midp = np.argmin(np.abs(time))\r\n",
        "\r\n",
        "fwhmT = [0,0,0]\r\n",
        "fwhmT[0] = time[ midp+np.argmin(np.abs(gauswin1[midp:]-.5)) ] - time[ np.argmin(np.abs(gauswin1[:midp]-.5)) ]\r\n",
        "fwhmT[1] = time[ midp+np.argmin(np.abs(gauswin2[midp:]-.5)) ] - time[ np.argmin(np.abs(gauswin2[:midp]-.5)) ]\r\n",
        "fwhmT[2] = time[ midp+np.argmin(np.abs(gauswin3[midp:]-.5)) ] - time[ np.argmin(np.abs(gauswin3[:midp]-.5)) ]\r\n",
        "\r\n",
        "idx1 = np.argmin(np.abs(hz-freq1))\r\n",
        "idx2 = np.argmin(np.abs(hz-freq2))\r\n",
        "fwhmF = [0,0,0]\r\n",
        "fwhmF[0] = hz[idx1+np.argmin(np.abs(powspect1[idx1:]-.5))] - hz[np.argmin(np.abs(powspect1[:idx1]-.5))]\r\n",
        "fwhmF[1] = hz[idx1+np.argmin(np.abs(powspect2[idx1:idx1+100]-.5))] - hz[np.argmin(np.abs(powspect2[:idx1]-.5))]\r\n",
        "fwhmF[2] = hz[idx2+np.argmin(np.abs(powspect3[idx2:]-.5))] - hz[np.argmin(np.abs(powspect3[:idx2]-.5))]"
      ],
      "execution_count": null,
      "outputs": []
    },
    {
      "cell_type": "code",
      "metadata": {
        "id": "KtfMb9sUKBrN"
      },
      "source": [
        "### plotting\r\n",
        "\r\n",
        "fig,ax = plt.subplots(2,3,figsize=(10,7),tight_layout=True)\r\n",
        "\r\n",
        "# time domain\r\n",
        "ax[0,0].plot(time,morletwave1,'k')\r\n",
        "ax[0,0].set_xlabel('Time (s)')\r\n",
        "ax[0,0].set_title('%g cycles, FWHM: %g ms' %(numcycles[0],fwhmT[0]*1000))\r\n",
        "ax[0,0].set_xlim([-1,1])\r\n",
        "\r\n",
        "ax[0,1].plot(time,morletwave2,'k')\r\n",
        "ax[0,1].set_xlabel('Time (s)')\r\n",
        "ax[0,1].set_title('%g cycles, FWHM: %g ms' %(numcycles[1],fwhmT[1]*1000))\r\n",
        "ax[0,1].set_xlim([-1,1])\r\n",
        "\r\n",
        "ax[0,2].plot(time,morletwave3,'k')\r\n",
        "ax[0,2].set_xlabel('Time (s)')\r\n",
        "ax[0,2].set_title('%g cycles, FWHM: %g ms' %(numcycles[1],fwhmT[2]*1000))\r\n",
        "ax[0,2].set_xlim([-1,1])\r\n",
        "\r\n",
        "\r\n",
        "\r\n",
        "# frequency domain\r\n",
        "ax[1,0].plot(hz,powspect1[:len(hz)],'k')\r\n",
        "ax[1,0].set_xlabel('Frequency (Hz)')\r\n",
        "ax[1,0].set_title('%g cycles, FWHM: %g Hz' %(numcycles[0],fwhmF[0]))\r\n",
        "ax[1,0].set_xlim([0,freq2*2])\r\n",
        "\r\n",
        "ax[1,1].plot(hz,powspect2[:len(hz)],'k')\r\n",
        "ax[1,1].set_xlabel('Frequency (Hz)')\r\n",
        "ax[1,1].set_title('%g cycles, FWHM: %g Hz' %(numcycles[1],fwhmF[1]))\r\n",
        "ax[1,1].set_xlim([0,freq2*2])\r\n",
        "\r\n",
        "ax[1,2].plot(hz,powspect3[:len(hz)],'k')\r\n",
        "ax[1,2].set_xlabel('Frequency (Hz)')\r\n",
        "ax[1,2].set_title('%g cycles, FWHM: %g Hz' %(numcycles[1],fwhmF[2]))\r\n",
        "ax[1,2].set_xlim([0,freq2*2])\r\n",
        "\r\n",
        "plt.show()"
      ],
      "execution_count": null,
      "outputs": []
    },
    {
      "cell_type": "code",
      "metadata": {
        "id": "WLYwx2cvTO3t"
      },
      "source": [
        ""
      ],
      "execution_count": null,
      "outputs": []
    },
    {
      "cell_type": "markdown",
      "metadata": {
        "id": "LJx3czt-TKrf"
      },
      "source": [
        "## **Figure 3: FWHM vs. number-of-cycles**"
      ]
    },
    {
      "cell_type": "code",
      "metadata": {
        "id": "8aMd4L8bTTVs"
      },
      "source": [
        "# specify frequencies\r\n",
        "frex = np.linspace(3,60,50)\r\n",
        "fwhm = np.linspace(.4,.1,len(frex)) # in ms (use this or the following)\r\n",
        "fwhm = np.logspace(np.log10(.4),np.log10(.1),len(frex)) # in ms (use this or the previous)\r\n",
        "ncyc = np.linspace(3.2,16,len(frex))\r\n",
        "\r\n",
        "\r\n",
        "\r\n",
        "# parameters for complex Morlet wavelets\r\n",
        "srate = 1024\r\n",
        "wavtime = np.arange(-srate*2,srate*2+1)/srate\r\n",
        "midp = np.argmin(np.abs(wavtime))\r\n",
        "\r\n",
        "\r\n",
        "# outputs\r\n",
        "empfwhm = np.zeros((len(frex),2))\r\n",
        "\r\n",
        "# loop over frequencies\r\n",
        "for fi in range(len(frex)):\r\n",
        "    \r\n",
        "    ### create the Gaussian using the FWHM formula (equation 3)\r\n",
        "    gwin = np.exp( (-4*np.log(2)*wavtime**2) / fwhm[fi]**2 )\r\n",
        "    \r\n",
        "    # measure the empirical fwhm\r\n",
        "    empfwhm[fi,0] = wavtime[ midp+np.argmin(np.abs(gwin[midp:]-.5)) ] \\\r\n",
        "                    - wavtime[ np.argmin(np.abs(gwin[:midp]-.5)) ]\r\n",
        "    \r\n",
        "\r\n",
        "    ### create the Gaussian using the n-cycles formula (equations 1-2)\r\n",
        "    s    = ncyc[fi] / (2*np.pi*frex[fi])\r\n",
        "    gwin = np.exp( -wavtime**2 / (2*s**2) )\r\n",
        "    \r\n",
        "    # empirical FWHM\r\n",
        "    empfwhm[fi,1] = wavtime[ midp+np.argmin(np.abs(gwin[midp:]-.5)) ] \\\r\n",
        "                    - wavtime[ np.argmin(np.abs(gwin[:midp]-.5)) ]\r\n",
        "\r\n",
        "\r\n",
        "fig = plt.figure(figsize=(8,5))\r\n",
        "\r\n",
        "plt.plot(frex,empfwhm*1000,'o-',markersize=8,markerfacecolor='w')\r\n",
        "plt.xlabel('Wavelet frequency (Hz)')\r\n",
        "plt.ylabel('FWHM (ms)')\r\n",
        "plt.legend(['Using FWHM','Using n-cycles'])\r\n",
        "plt.show()"
      ],
      "execution_count": null,
      "outputs": []
    },
    {
      "cell_type": "code",
      "metadata": {
        "id": "RjD4sRFQVSFP"
      },
      "source": [
        ""
      ],
      "execution_count": null,
      "outputs": []
    },
    {
      "cell_type": "code",
      "metadata": {
        "id": "7YYNMCjHWjFn"
      },
      "source": [
        ""
      ],
      "execution_count": null,
      "outputs": []
    },
    {
      "cell_type": "markdown",
      "metadata": {
        "id": "xnezWlvYWh96"
      },
      "source": [
        "## **Figure 4: Defining wavelets in the frequency domain**"
      ]
    },
    {
      "cell_type": "code",
      "metadata": {
        "id": "wkIWP8yjWl5u"
      },
      "source": [
        "# specify wavelet parameters\r\n",
        "peakf = 11\r\n",
        "fwhm  = 5.2 # integers are boring\r\n",
        "\r\n",
        "# specify simulation details\r\n",
        "npnts = 8001\r\n",
        "srate = 1000\r\n",
        "\r\n",
        "\r\n",
        "# vector of frequencies\r\n",
        "hz = np.linspace(0,srate,npnts)\r\n",
        "\r\n",
        "# frequency-domain Gaussian\r\n",
        "s  = fwhm*(2*np.pi-1)/(4*np.pi) # normalized width\r\n",
        "x  = hz-peakf;                  # shifted frequencies\r\n",
        "fx = np.exp(-.5*(x/s)**2)       # gaussian\r\n",
        "\r\n",
        "# empirical FWHM\r\n",
        "idx = np.argmin(np.abs(hz-peakf))\r\n",
        "empfwhmF = hz[idx+np.argmin(np.abs(fx[idx:]-.5))] - hz[np.argmin(np.abs(fx[:idx]-.5))]\r\n",
        "\r\n",
        "\r\n",
        "# time-domain wavelet\r\n",
        "morletwavelet = np.fft.fftshift( np.fft.ifft(fx) )\r\n",
        "time = np.arange(-np.floor(npnts/2),np.floor(npnts/2)+1)/srate\r\n",
        "\r\n",
        "# FWHM of wavelet in the time domain\r\n",
        "midp = np.argmin(np.abs(time))\r\n",
        "mw_amp = np.abs(morletwavelet)\r\n",
        "mw_amp = mw_amp / np.max(mw_amp)\r\n",
        "empfwhmT = time[ midp+np.argmin(np.abs(mw_amp[midp:]-.5)) ] - time[ np.argmin(np.abs(mw_amp[:midp]-.5)) ]"
      ],
      "execution_count": null,
      "outputs": []
    },
    {
      "cell_type": "code",
      "metadata": {
        "id": "-1L6UL2UX91U"
      },
      "source": [
        "### plotting\r\n",
        "\r\n",
        "fig,ax = plt.subplots(2,1,figsize=(6,6),tight_layout=True)\r\n",
        "\r\n",
        "# frequency domain\r\n",
        "ax[0].plot(hz,fx,'k')\r\n",
        "ax[0].set_xlim([0,peakf*3])\r\n",
        "ax[0].set_xlabel('Frequency (Hz)')\r\n",
        "ax[0].set_ylabel('Amplitude (gain)')\r\n",
        "ax[0].set_title('FWHM specified: %g, obtained: %g Hz' %(fwhm,empfwhmF))\r\n",
        "\r\n",
        "\r\n",
        "# time domain\r\n",
        "ax[1].plot(time,np.real(morletwavelet),linewidth=2)\r\n",
        "ax[1].plot(time,np.imag(morletwavelet),'--',linewidth=2)\r\n",
        "ax[1].plot(time,np.abs(morletwavelet),linewidth=2,color=[.8,.8,.8])\r\n",
        "ax[1].set_xlim([-1,1])\r\n",
        "ax[1].legend(['Real part','Imag part','Envelope'])\r\n",
        "ax[1].set_xlabel('Time (sec.)')\r\n",
        "ax[1].set_title('FWHM: %g ms' %(empfwhmT*1000))\r\n",
        "\r\n",
        "plt.show()"
      ],
      "execution_count": null,
      "outputs": []
    },
    {
      "cell_type": "code",
      "metadata": {
        "id": "6MFTGjCKcRyy"
      },
      "source": [
        ""
      ],
      "execution_count": null,
      "outputs": []
    },
    {
      "cell_type": "markdown",
      "metadata": {
        "id": "YlchvlMrfQEh"
      },
      "source": [
        "## **Figure 5a: The real deal (fixed FWHM)**"
      ]
    },
    {
      "cell_type": "code",
      "metadata": {
        "id": "x1-xiddOcR1j"
      },
      "source": [
        "# note: this is one channel from one dataset from \n",
        "# Cohen, M.X., 2015. Comparison of different spatial transformations applied to EEG data: A case study of error processing. Int. J. Psychophysiol. 97, 245â€“257\n",
        "\n",
        "matdat = sio.loadmat('MorletWaveletDefinition_data.mat')\n",
        "\n",
        "# extract data from EEG structure\n",
        "EEGtimes  = matdat['EEG'][0][0][0][0]\n",
        "EEGsrate  = int(matdat['EEG'][0][0][1][0][0])\n",
        "EEGpnts   = int(matdat['EEG'][0][0][2][0][0])\n",
        "EEGtrials = int(matdat['EEG'][0][0][3][0][0])\n",
        "EEGdata   = matdat['EEG'][0][0][4]"
      ],
      "execution_count": null,
      "outputs": []
    },
    {
      "cell_type": "code",
      "metadata": {
        "id": "2su3BeqOm0Tz"
      },
      "source": [
        ""
      ],
      "execution_count": null,
      "outputs": []
    },
    {
      "cell_type": "code",
      "metadata": {
        "id": "o46Mn6_Ggk0n"
      },
      "source": [
        "### setup time-frequency analysis\n",
        "\n",
        "# parameters\n",
        "nfrex = 80\n",
        "frex  = np.linspace(2,40,nfrex)\n",
        "fwhm  = [.1, .5, 2]\n",
        "\n",
        "# timimg parameters\n",
        "bidx = [ np.argmin(np.abs(EEGtimes--500)), np.argmin(np.abs(EEGtimes--200)) ]\n",
        "tidx = np.arange( np.argmin(np.abs(EEGtimes--500)), np.argmin(np.abs(EEGtimes-1300))+1 )\n",
        "\n",
        "# setup wavelet and convolution parameters\n",
        "wavet = np.arange(-5*EEGsrate,5*EEGsrate+1)/EEGsrate\n",
        "halfw = int(len(wavet)/2)+1\n",
        "nConv = EEGpnts*EEGtrials + len(wavet) - 1\n",
        "\n",
        "\n",
        "# initialize time-frequency matrix\n",
        "tf = np.zeros((len(frex),len(tidx),len(fwhm)+1))\n",
        "empfwhm = np.zeros((len(fwhm)+1,len(frex)))\n"
      ],
      "execution_count": null,
      "outputs": []
    },
    {
      "cell_type": "code",
      "metadata": {
        "id": "78wGJ3s9jmp-"
      },
      "source": [
        "### run TF analysis\n",
        "\n",
        "# setup plot\n",
        "fig,ax = plt.subplots(1,3,figsize=(10,4))\n",
        "\n",
        "\n",
        "# spectrum of data\n",
        "dataX = np.fft.fft(np.reshape(EEGdata,(1,-1),order='F'),nConv)\n",
        "\n",
        "\n",
        "# loop over FWHM parameter settings\n",
        "for fwhmi in range(len(fwhm)):\n",
        "    \n",
        "    # loop over frequencies\n",
        "    for fi in range(len(frex)):\n",
        "        \n",
        "        # create wavelet\n",
        "        waveX = np.fft.fft( np.exp(2*1j*np.pi*frex[fi]*wavet) \\\n",
        "                            * np.exp(-4*np.log(2)*wavet**2/fwhm[fwhmi]**2),nConv )\n",
        "        waveX = waveX / np.max(np.abs(waveX)) # normalize\n",
        "        \n",
        "        # convolve\n",
        "        ast = np.fft.ifft( waveX*dataX )[0]\n",
        "        # trim and reshape\n",
        "        ast = np.reshape(ast[halfw-1:-halfw+1],(EEGpnts,EEGtrials),order='F')\n",
        "        \n",
        "        # power\n",
        "        p = np.mean( np.abs(ast)**2 ,axis=1)\n",
        "        tf[fi,:,fwhmi] = 10*np.log10( p[tidx]/np.mean(p[bidx[0]:bidx[1]]) )\n",
        "        \n",
        "        # empirical FWHM\n",
        "        hz = np.linspace(0,EEGsrate,nConv)\n",
        "        idx = np.argmin(np.abs(hz-frex[fi]))\n",
        "        fx = np.abs(waveX)\n",
        "        empfwhm[fwhmi,fi] = hz[idx+np.argmin(np.abs(fx[idx:]-.5))] - hz[np.argmin(np.abs(fx[:idx]-.5))]\n",
        "\n",
        "    # plots\n",
        "    ax[fwhmi].imshow(np.squeeze(tf[:,:,fwhmi]),aspect='auto',\\\n",
        "                      extent=[EEGtimes[tidx[0]],EEGtimes[tidx[-1]],frex[0],frex[-1] ],origin='bottom',\\\n",
        "                      vmin=-2,vmax=2)\n",
        "    ax[fwhmi].set_title('%g sec' %fwhm[fwhmi])\n",
        "  \n",
        "\n",
        "ax[0].set_xlabel('Time (ms)')\n",
        "ax[0].set_ylabel('Frequency (Hz)')\n",
        "plt.show()"
      ],
      "execution_count": null,
      "outputs": []
    },
    {
      "cell_type": "code",
      "metadata": {
        "id": "JB54goNNlZwQ"
      },
      "source": [
        "### Figure 5a: The real deal (variable FWHM)\n",
        "\n",
        "# range of FWHMs\n",
        "fwhm = np.linspace(1,.2,len(frex))\n",
        "\n",
        "# loop over frequencies\n",
        "for fi in range(len(frex)):\n",
        "    \n",
        "    # create wavelet\n",
        "    waveX = np.fft.fft( np.exp(2*1j*np.pi*frex[fi]*wavet) \\\n",
        "                        * np.exp(-4*np.log(2)*wavet**2/fwhm[fi]**2),nConv )\n",
        "    waveX = waveX / np.max(np.abs(waveX)) # normalize\n",
        "    \n",
        "    # convolve\n",
        "    ast = np.fft.ifft( waveX*dataX )[0]\n",
        "    # trim and reshape\n",
        "    ast = np.reshape(ast[halfw-1:-halfw+1],(EEGpnts,EEGtrials),order='F')\n",
        "    \n",
        "    # power\n",
        "    p = np.mean( np.abs(ast)**2 ,axis=1)\n",
        "    tf[fi,:,3] = 10*np.log10( p[tidx]/np.mean(p[bidx[0]:bidx[1]]) )\n",
        "    \n",
        "    # empirical FWHM\n",
        "    hz = np.linspace(0,EEGsrate,nConv)\n",
        "    idx = np.argmin(np.abs(hz-frex[fi]))\n",
        "    fx = np.abs(waveX)\n",
        "    empfwhm[3,fi] = hz[idx+np.argmin(np.abs(fx[idx:]-.5))] - hz[np.argmin(np.abs(fx[:idx]-.5))]\n",
        "\n",
        "\n",
        "# plot\n",
        "plt.imshow(np.squeeze(tf[:,:,3]),aspect='auto',\\\n",
        "                  extent=[EEGtimes[tidx[0]],EEGtimes[tidx[-1]],frex[0],frex[-1] ],origin='bottom',\\\n",
        "                  vmin=-2,vmax=2)\n",
        "plt.title('%g-%g s' %(fwhm[0],fwhm[-1]))\n",
        "plt.xlabel('Time (ms)')\n",
        "plt.ylabel('Frequency (Hz)')\n",
        "plt.show()"
      ],
      "execution_count": null,
      "outputs": []
    },
    {
      "cell_type": "code",
      "metadata": {
        "id": "bHlg0xzHcR4Q",
        "collapsed": true
      },
      "source": [
        "### Figure 5b: the real deal, part deux\r\n",
        "\r\n",
        "empfwhm[empfwhm>100] = np.nan\r\n",
        "\r\n",
        "fig = plt.figure(figsize=(6,6))\r\n",
        "\r\n",
        "plt.plot(frex,empfwhm.T,'s',markerfacecolor='w',linewidth=2,markersize=8)\r\n",
        "plt.legend(['100','500','2000','var'])\r\n",
        "plt.ylim([0,18])\r\n",
        "plt.xlim([frex[0]-1, frex[-1]+1])\r\n",
        "plt.xlabel('Peak frequency (Hz)')\r\n",
        "plt.ylabel('FWHM (Hz)')\r\n",
        "plt.show()"
      ],
      "execution_count": null,
      "outputs": []
    }
  ]
}